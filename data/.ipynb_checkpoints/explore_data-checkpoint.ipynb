{
 "cells": [
  {
   "cell_type": "code",
   "execution_count": 6,
   "id": "4b036886-b505-49f0-b4f3-198df6d06970",
   "metadata": {},
   "outputs": [],
   "source": [
    "#Importing the Libraries\n",
    "\n",
    "import pandas as pd \n",
    "import numpy as np \n",
    "import seaborn as sns \n",
    "import matplotlib.pyplot as plt"
   ]
  },
  {
   "cell_type": "code",
   "execution_count": 3,
   "id": "5430fdce-fd08-4cbe-b0a1-779ff02058f5",
   "metadata": {},
   "outputs": [],
   "source": [
    "df_data = pd.read_csv(\"churn_data_processed.csv\")"
   ]
  },
  {
   "cell_type": "code",
   "execution_count": 4,
   "id": "aed353e3-f9a5-47be-84aa-66bc5bf4b21d",
   "metadata": {},
   "outputs": [
    {
     "data": {
      "text/html": [
       "<div>\n",
       "<style scoped>\n",
       "    .dataframe tbody tr th:only-of-type {\n",
       "        vertical-align: middle;\n",
       "    }\n",
       "\n",
       "    .dataframe tbody tr th {\n",
       "        vertical-align: top;\n",
       "    }\n",
       "\n",
       "    .dataframe thead th {\n",
       "        text-align: right;\n",
       "    }\n",
       "</style>\n",
       "<table border=\"1\" class=\"dataframe\">\n",
       "  <thead>\n",
       "    <tr style=\"text-align: right;\">\n",
       "      <th></th>\n",
       "      <th>gender</th>\n",
       "      <th>SeniorCitizen</th>\n",
       "      <th>Partner</th>\n",
       "      <th>Dependents</th>\n",
       "      <th>tenure</th>\n",
       "      <th>PhoneService</th>\n",
       "      <th>MultipleLines</th>\n",
       "      <th>InternetService</th>\n",
       "      <th>OnlineSecurity</th>\n",
       "      <th>OnlineBackup</th>\n",
       "      <th>DeviceProtection</th>\n",
       "      <th>TechSupport</th>\n",
       "      <th>StreamingTV</th>\n",
       "      <th>StreamingMovies</th>\n",
       "      <th>Contract</th>\n",
       "      <th>PaperlessBilling</th>\n",
       "      <th>PaymentMethod</th>\n",
       "      <th>MonthlyCharges</th>\n",
       "      <th>TotalCharges</th>\n",
       "      <th>Churn</th>\n",
       "    </tr>\n",
       "  </thead>\n",
       "  <tbody>\n",
       "    <tr>\n",
       "      <th>0</th>\n",
       "      <td>0</td>\n",
       "      <td>0</td>\n",
       "      <td>1</td>\n",
       "      <td>0</td>\n",
       "      <td>1</td>\n",
       "      <td>0</td>\n",
       "      <td>1</td>\n",
       "      <td>0</td>\n",
       "      <td>0</td>\n",
       "      <td>2</td>\n",
       "      <td>0</td>\n",
       "      <td>0</td>\n",
       "      <td>0</td>\n",
       "      <td>0</td>\n",
       "      <td>0</td>\n",
       "      <td>1</td>\n",
       "      <td>2</td>\n",
       "      <td>29.85</td>\n",
       "      <td>29.85</td>\n",
       "      <td>0</td>\n",
       "    </tr>\n",
       "    <tr>\n",
       "      <th>1</th>\n",
       "      <td>1</td>\n",
       "      <td>0</td>\n",
       "      <td>0</td>\n",
       "      <td>0</td>\n",
       "      <td>34</td>\n",
       "      <td>1</td>\n",
       "      <td>0</td>\n",
       "      <td>0</td>\n",
       "      <td>2</td>\n",
       "      <td>0</td>\n",
       "      <td>2</td>\n",
       "      <td>0</td>\n",
       "      <td>0</td>\n",
       "      <td>0</td>\n",
       "      <td>1</td>\n",
       "      <td>0</td>\n",
       "      <td>3</td>\n",
       "      <td>56.95</td>\n",
       "      <td>1889.50</td>\n",
       "      <td>0</td>\n",
       "    </tr>\n",
       "    <tr>\n",
       "      <th>2</th>\n",
       "      <td>1</td>\n",
       "      <td>0</td>\n",
       "      <td>0</td>\n",
       "      <td>0</td>\n",
       "      <td>2</td>\n",
       "      <td>1</td>\n",
       "      <td>0</td>\n",
       "      <td>0</td>\n",
       "      <td>2</td>\n",
       "      <td>2</td>\n",
       "      <td>0</td>\n",
       "      <td>0</td>\n",
       "      <td>0</td>\n",
       "      <td>0</td>\n",
       "      <td>0</td>\n",
       "      <td>1</td>\n",
       "      <td>3</td>\n",
       "      <td>53.85</td>\n",
       "      <td>108.15</td>\n",
       "      <td>1</td>\n",
       "    </tr>\n",
       "    <tr>\n",
       "      <th>3</th>\n",
       "      <td>1</td>\n",
       "      <td>0</td>\n",
       "      <td>0</td>\n",
       "      <td>0</td>\n",
       "      <td>45</td>\n",
       "      <td>0</td>\n",
       "      <td>1</td>\n",
       "      <td>0</td>\n",
       "      <td>2</td>\n",
       "      <td>0</td>\n",
       "      <td>2</td>\n",
       "      <td>2</td>\n",
       "      <td>0</td>\n",
       "      <td>0</td>\n",
       "      <td>1</td>\n",
       "      <td>0</td>\n",
       "      <td>0</td>\n",
       "      <td>42.30</td>\n",
       "      <td>1840.75</td>\n",
       "      <td>0</td>\n",
       "    </tr>\n",
       "    <tr>\n",
       "      <th>4</th>\n",
       "      <td>0</td>\n",
       "      <td>0</td>\n",
       "      <td>0</td>\n",
       "      <td>0</td>\n",
       "      <td>2</td>\n",
       "      <td>1</td>\n",
       "      <td>0</td>\n",
       "      <td>1</td>\n",
       "      <td>0</td>\n",
       "      <td>0</td>\n",
       "      <td>0</td>\n",
       "      <td>0</td>\n",
       "      <td>0</td>\n",
       "      <td>0</td>\n",
       "      <td>0</td>\n",
       "      <td>1</td>\n",
       "      <td>2</td>\n",
       "      <td>70.70</td>\n",
       "      <td>151.65</td>\n",
       "      <td>1</td>\n",
       "    </tr>\n",
       "  </tbody>\n",
       "</table>\n",
       "</div>"
      ],
      "text/plain": [
       "   gender  SeniorCitizen  Partner  Dependents  tenure  PhoneService  \\\n",
       "0       0              0        1           0       1             0   \n",
       "1       1              0        0           0      34             1   \n",
       "2       1              0        0           0       2             1   \n",
       "3       1              0        0           0      45             0   \n",
       "4       0              0        0           0       2             1   \n",
       "\n",
       "   MultipleLines  InternetService  OnlineSecurity  OnlineBackup  \\\n",
       "0              1                0               0             2   \n",
       "1              0                0               2             0   \n",
       "2              0                0               2             2   \n",
       "3              1                0               2             0   \n",
       "4              0                1               0             0   \n",
       "\n",
       "   DeviceProtection  TechSupport  StreamingTV  StreamingMovies  Contract  \\\n",
       "0                 0            0            0                0         0   \n",
       "1                 2            0            0                0         1   \n",
       "2                 0            0            0                0         0   \n",
       "3                 2            2            0                0         1   \n",
       "4                 0            0            0                0         0   \n",
       "\n",
       "   PaperlessBilling  PaymentMethod  MonthlyCharges  TotalCharges  Churn  \n",
       "0                 1              2           29.85         29.85      0  \n",
       "1                 0              3           56.95       1889.50      0  \n",
       "2                 1              3           53.85        108.15      1  \n",
       "3                 0              0           42.30       1840.75      0  \n",
       "4                 1              2           70.70        151.65      1  "
      ]
     },
     "execution_count": 4,
     "metadata": {},
     "output_type": "execute_result"
    }
   ],
   "source": [
    "df_data.head()"
   ]
  },
  {
   "cell_type": "code",
   "execution_count": 5,
   "id": "c5c47730-2170-4c0b-8c1e-8201d0bc3821",
   "metadata": {},
   "outputs": [
    {
     "data": {
      "text/plain": [
       "Churn\n",
       "0    5174\n",
       "1    1869\n",
       "Name: count, dtype: int64"
      ]
     },
     "execution_count": 5,
     "metadata": {},
     "output_type": "execute_result"
    }
   ],
   "source": [
    "df_data[\"Churn\"].value_counts()\n",
    "#There is an imbalance in the dataset "
   ]
  },
  {
   "cell_type": "code",
   "execution_count": 11,
   "id": "2f6f73a8-9c18-4183-af6d-bfdb60096573",
   "metadata": {},
   "outputs": [],
   "source": [
    "true = df_data[df_data[\"Churn\"] ==1]\n",
    "fasle = df_data[df_data[\"Churn\"]==0]"
   ]
  },
  {
   "cell_type": "code",
   "execution_count": 15,
   "id": "c5e90f59-2b9b-4dc6-991a-eb3c4b65c7a1",
   "metadata": {},
   "outputs": [
    {
     "data": {
      "text/plain": [
       "((1869, 20), (5174, 20))"
      ]
     },
     "execution_count": 15,
     "metadata": {},
     "output_type": "execute_result"
    }
   ],
   "source": [
    "true.shape, fasle.shape"
   ]
  },
  {
   "cell_type": "code",
   "execution_count": 69,
   "id": "85e8d650-dfd1-493e-9a72-2e153b14154f",
   "metadata": {},
   "outputs": [],
   "source": [
    "X = df_data.drop(\"Churn\", axis=1)\n",
    "Y = df_data[\"Churn\"]"
   ]
  },
  {
   "cell_type": "code",
   "execution_count": null,
   "id": "7f63b724-81b1-4e17-872e-3bb9129feee1",
   "metadata": {},
   "outputs": [],
   "source": []
  },
  {
   "cell_type": "code",
   "execution_count": 70,
   "id": "8f3760d2-023d-4f50-a772-0ac4fdc60e51",
   "metadata": {},
   "outputs": [],
   "source": [
    "from imblearn.combine import SMOTETomek "
   ]
  },
  {
   "cell_type": "code",
   "execution_count": 71,
   "id": "2994e419-0fbb-41c9-a4ee-5080ff20c98b",
   "metadata": {},
   "outputs": [],
   "source": [
    "#Oversampling for handling the imbalance \n",
    "smk = SMOTETomek(random_state=42)\n",
    "X_res,y_res =smk.fit_resample(X,Y)"
   ]
  },
  {
   "cell_type": "code",
   "execution_count": 72,
   "id": "f739621f-f3bf-482d-bb09-ca4c67f1180d",
   "metadata": {},
   "outputs": [
    {
     "data": {
      "text/plain": [
       "((9606, 19), (9606,))"
      ]
     },
     "execution_count": 72,
     "metadata": {},
     "output_type": "execute_result"
    }
   ],
   "source": [
    "X_res.shape, y_res.shape"
   ]
  },
  {
   "cell_type": "code",
   "execution_count": 67,
   "id": "b388fd40-734b-4d44-ac79-eb55ed0f3de2",
   "metadata": {},
   "outputs": [
    {
     "data": {
      "text/plain": [
       "(Counter({0: 5174, 1: 1869}), Counter({0: 4803, 1: 4803}))"
      ]
     },
     "execution_count": 67,
     "metadata": {},
     "output_type": "execute_result"
    }
   ],
   "source": [
    "from collections import Counter\n",
    "Counter(Y), Counter(y_res)"
   ]
  },
  {
   "cell_type": "code",
   "execution_count": 42,
   "id": "72528115-e9b5-4467-b9a0-098770f64785",
   "metadata": {},
   "outputs": [
    {
     "name": "stdout",
     "output_type": "stream",
     "text": [
      "[[2513  742]\n",
      " [ 497 2685]]\n"
     ]
    },
    {
     "name": "stderr",
     "output_type": "stream",
     "text": [
      "/opt/anaconda3/lib/python3.11/site-packages/sklearn/linear_model/_logistic.py:458: ConvergenceWarning: lbfgs failed to converge (status=1):\n",
      "STOP: TOTAL NO. of ITERATIONS REACHED LIMIT.\n",
      "\n",
      "Increase the number of iterations (max_iter) or scale the data as shown in:\n",
      "    https://scikit-learn.org/stable/modules/preprocessing.html\n",
      "Please also refer to the documentation for alternative solver options:\n",
      "    https://scikit-learn.org/stable/modules/linear_model.html#logistic-regression\n",
      "  n_iter_i = _check_optimize_result(\n"
     ]
    },
    {
     "data": {
      "image/png": "[encoded data removed]",
      "text/plain": [
       "<Figure size 640x480 with 2 Axes>"
      ]
     },
     "metadata": {},
     "output_type": "display_data"
    },
    {
     "name": "stdout",
     "output_type": "stream",
     "text": [
      "              precision    recall  f1-score   support\n",
      "\n",
      "           0       0.83      0.77      0.80      3255\n",
      "           1       0.78      0.84      0.81      3182\n",
      "\n",
      "    accuracy                           0.81      6437\n",
      "   macro avg       0.81      0.81      0.81      6437\n",
      "weighted avg       0.81      0.81      0.81      6437\n",
      "\n"
     ]
    }
   ],
   "source": [
    "#Importing libraries  \n",
    "import sklearn\n",
    "from sklearn.linear_model import LogisticRegression\n",
    "from sklearn.model_selection import train_test_split \n",
    "\n",
    "\n",
    "#Train and Test Split  \n",
    "X_train, X_test, y_train, y_test = train_test_split(X_res,y_res,train_size=0.33, random_state=42)\n",
    "\n",
    "\n",
    "#Linear Regression Model \n",
    "\n",
    "LR = LogisticRegression()\n",
    "LR.fit(X_res,y_res) \n",
    "\n",
    "#Making Predicitons \n",
    "y_pred = LR.predict(X_test)\n",
    "\n",
    "#Metrics \n",
    "from sklearn.metrics import confusion_matrix, classification_report\n",
    "\n",
    "#Confusion matrix \n",
    "confusion_mat  = confusion_matrix(y_test,y_pred)\n",
    "print(confusion_mat)\n",
    "\n",
    "import seaborn as sns\n",
    "import matplotlib.pyplot as plt\n",
    "sns.heatmap(confusion_mat, annot=True, cmap=\"RdGy\", fmt=\".1f\")\n",
    "plt.xlabel(\"Predicted\")\n",
    "plt.ylabel(\"Actual\")\n",
    "plt.show()\n",
    "\n",
    "#Classification Report \n",
    "print(classification_report(y_test,y_pred))\n",
    "\n",
    "\n"
   ]
  },
  {
   "cell_type": "code",
   "execution_count": 57,
   "id": "f33673ca-00a0-4dd0-b6dd-d88bab9faaef",
   "metadata": {},
   "outputs": [
    {
     "name": "stdout",
     "output_type": "stream",
     "text": [
      "[[3253    2]\n",
      " [  10 3172]]\n"
     ]
    },
    {
     "data": {
      "image/png": "[encoded data removed]",
      "text/plain": [
       "<Figure size 640x480 with 2 Axes>"
      ]
     },
     "metadata": {},
     "output_type": "display_data"
    },
    {
     "name": "stdout",
     "output_type": "stream",
     "text": [
      "              precision    recall  f1-score   support\n",
      "\n",
      "           0       1.00      1.00      1.00      3255\n",
      "           1       1.00      1.00      1.00      3182\n",
      "\n",
      "    accuracy                           1.00      6437\n",
      "   macro avg       1.00      1.00      1.00      6437\n",
      "weighted avg       1.00      1.00      1.00      6437\n",
      "\n"
     ]
    }
   ],
   "source": [
    "#Importing libraries  \n",
    "import sklearn\n",
    "from sklearn.tree import DecisionTreeClassifier\n",
    "from sklearn.model_selection import train_test_split \n",
    "\n",
    "\n",
    "#Train and Test Split  \n",
    "X_train, X_test, y_train, y_test = train_test_split(X_res,y_res,train_size=0.33, random_state=42)\n",
    "\n",
    "\n",
    "#Linear Regression Model \n",
    "\n",
    "clf = DecisionTreeClassifier()\n",
    "clf.fit(X_res,y_res) \n",
    "\n",
    "#Making Predicitons \n",
    "y_pred = clf.predict(X_test)\n",
    "\n",
    "#Metrics \n",
    "from sklearn.metrics import confusion_matrix, classification_report\n",
    "\n",
    "#Confusion matrix \n",
    "confusion_mat  = confusion_matrix(y_test,y_pred)\n",
    "print(confusion_mat)\n",
    "\n",
    "import seaborn as sns\n",
    "import matplotlib.pyplot as plt\n",
    "sns.heatmap(confusion_mat, annot=True, cmap=\"RdGy\", fmt=\".1f\")\n",
    "plt.xlabel(\"Predicted\")\n",
    "plt.ylabel(\"Actual\")\n",
    "plt.show()\n",
    "\n",
    "#Classification Report \n",
    "print(classification_report(y_test,y_pred))"
   ]
  },
  {
   "cell_type": "code",
   "execution_count": 52,
   "id": "7e0c673b-ef7b-4755-b5b9-0b273a9fd8c3",
   "metadata": {},
   "outputs": [
    {
     "name": "stdout",
     "output_type": "stream",
     "text": [
      "[[2299  956]\n",
      " [ 990 2192]]\n"
     ]
    },
    {
     "data": {
      "image/png": "[encoded data removed]",
      "text/plain": [
       "<Figure size 640x480 with 2 Axes>"
      ]
     },
     "metadata": {},
     "output_type": "display_data"
    },
    {
     "name": "stdout",
     "output_type": "stream",
     "text": [
      "              precision    recall  f1-score   support\n",
      "\n",
      "           0       0.70      0.71      0.70      3255\n",
      "           1       0.70      0.69      0.69      3182\n",
      "\n",
      "    accuracy                           0.70      6437\n",
      "   macro avg       0.70      0.70      0.70      6437\n",
      "weighted avg       0.70      0.70      0.70      6437\n",
      "\n"
     ]
    }
   ],
   "source": [
    "#Importing libraries  \n",
    "import sklearn\n",
    "from sklearn.svm import SVC\n",
    "from sklearn.model_selection import train_test_split \n",
    "\n",
    "\n",
    "#Train and Test Split  \n",
    "X_train, X_test, y_train, y_test = train_test_split(X_res,y_res,train_size=0.33, random_state=42)\n",
    "\n",
    "\n",
    "#Linear Regression Model \n",
    "\n",
    "clf = SVC()\n",
    "clf.fit(X_res,y_res) \n",
    "\n",
    "#Making Predicitons \n",
    "y_pred = clf.predict(X_test)\n",
    "\n",
    "#Metrics \n",
    "from sklearn.metrics import confusion_matrix, classification_report\n",
    "\n",
    "#Confusion matrix \n",
    "confusion_mat  = confusion_matrix(y_test,y_pred)\n",
    "print(confusion_mat)\n",
    "\n",
    "import seaborn as sns\n",
    "import matplotlib.pyplot as plt\n",
    "sns.heatmap(confusion_mat, annot=True, cmap=\"RdGy\", fmt=\".1f\")\n",
    "plt.xlabel(\"Predicted\")\n",
    "plt.ylabel(\"Actual\")\n",
    "plt.show()\n",
    "\n",
    "#Classification Report \n",
    "print(classification_report(y_test,y_pred))"
   ]
  },
  {
   "cell_type": "code",
   "execution_count": 62,
   "id": "7cca6346-0c86-40a0-bf93-f3ed9e5738fc",
   "metadata": {},
   "outputs": [
    {
     "name": "stdout",
     "output_type": "stream",
     "text": [
      "[[3243   12]\n",
      " [   2 3180]]\n"
     ]
    },
    {
     "data": {
      "image/png": "[encoded data removed]",
      "text/plain": [
       "<Figure size 640x480 with 2 Axes>"
      ]
     },
     "metadata": {},
     "output_type": "display_data"
    },
    {
     "name": "stdout",
     "output_type": "stream",
     "text": [
      "              precision    recall  f1-score   support\n",
      "\n",
      "           0       1.00      1.00      1.00      3255\n",
      "           1       1.00      1.00      1.00      3182\n",
      "\n",
      "    accuracy                           1.00      6437\n",
      "   macro avg       1.00      1.00      1.00      6437\n",
      "weighted avg       1.00      1.00      1.00      6437\n",
      "\n"
     ]
    }
   ],
   "source": [
    "#Importing libraries  \n",
    "import sklearn\n",
    "from sklearn.ensemble import RandomForestClassifier\n",
    "from sklearn.model_selection import train_test_split \n",
    "\n",
    "\n",
    "#Train and Test Split  \n",
    "X_train, X_test, y_train, y_test = train_test_split(X_res,y_res,train_size=0.33, random_state=42)\n",
    "\n",
    "\n",
    "#Linear Regression Model \n",
    "\n",
    "clf = RandomForestClassifier()\n",
    "clf.fit(X_res,y_res) \n",
    "\n",
    "#Making Predicitons \n",
    "y_pred = clf.predict(X_test)\n",
    "\n",
    "#Metrics \n",
    "from sklearn.metrics import confusion_matrix, classification_report\n",
    "\n",
    "#Confusion matrix \n",
    "confusion_mat  = confusion_matrix(y_test,y_pred)\n",
    "print(confusion_mat)\n",
    "\n",
    "import seaborn as sns\n",
    "import matplotlib.pyplot as plt\n",
    "sns.heatmap(confusion_mat, annot=True, cmap=\"RdGy\", fmt=\".1f\")\n",
    "plt.xlabel(\"Predicted\")\n",
    "plt.ylabel(\"Actual\")\n",
    "plt.show()\n",
    "\n",
    "#Classification Report \n",
    "print(classification_report(y_test,y_pred))"
   ]
  },
  {
   "cell_type": "code",
   "execution_count": 68,
   "id": "c2b69c7e-bd19-4015-a21e-8543757bf86f",
   "metadata": {},
   "outputs": [
    {
     "name": "stdout",
     "output_type": "stream",
     "text": [
      "[[2706  549]\n",
      " [ 384 2798]]\n"
     ]
    },
    {
     "data": {
      "image/png": "[encoded data removed]",
      "text/plain": [
       "<Figure size 640x480 with 2 Axes>"
      ]
     },
     "metadata": {},
     "output_type": "display_data"
    },
    {
     "name": "stdout",
     "output_type": "stream",
     "text": [
      "              precision    recall  f1-score   support\n",
      "\n",
      "           0       0.88      0.83      0.85      3255\n",
      "           1       0.84      0.88      0.86      3182\n",
      "\n",
      "    accuracy                           0.86      6437\n",
      "   macro avg       0.86      0.86      0.86      6437\n",
      "weighted avg       0.86      0.86      0.86      6437\n",
      "\n"
     ]
    }
   ],
   "source": [
    "#Importing libraries  \n",
    "import sklearn\n",
    "from sklearn.ensemble import GradientBoostingClassifier\n",
    "from sklearn.model_selection import train_test_split \n",
    "\n",
    "\n",
    "#Train and Test Split  \n",
    "X_train, X_test, y_train, y_test = train_test_split(X_res,y_res,train_size=0.33, random_state=42)\n",
    "\n",
    "\n",
    "#Linear Regression Model \n",
    "\n",
    "clf = GradientBoostingClassifier()\n",
    "clf.fit(X_res,y_res) \n",
    "\n",
    "#Making Predicitons \n",
    "y_pred = clf.predict(X_test)\n",
    "\n",
    "#Metrics \n",
    "from sklearn.metrics import confusion_matrix, classification_report\n",
    "\n",
    "#Confusion matrix \n",
    "confusion_mat  = confusion_matrix(y_test,y_pred)\n",
    "print(confusion_mat)\n",
    "\n",
    "import seaborn as sns\n",
    "import matplotlib.pyplot as plt\n",
    "sns.heatmap(confusion_mat, annot=True, cmap=\"RdGy\", fmt=\".1f\")\n",
    "plt.xlabel(\"Predicted\")\n",
    "plt.ylabel(\"Actual\")\n",
    "plt.show()\n",
    "\n",
    "#Classification Report \n",
    "print(classification_report(y_test,y_pred))"
   ]
  },
  {
   "cell_type": "code",
   "execution_count": 73,
   "id": "34d06e93-8fcf-4477-939f-8941d29b3f8a",
   "metadata": {},
   "outputs": [
    {
     "name": "stdout",
     "output_type": "stream",
     "text": [
      "[[2607  648]\n",
      " [ 382 2800]]\n"
     ]
    },
    {
     "data": {
      "image/png": "[encoded data removed]",
      "text/plain": [
       "<Figure size 640x480 with 2 Axes>"
      ]
     },
     "metadata": {},
     "output_type": "display_data"
    },
    {
     "name": "stdout",
     "output_type": "stream",
     "text": [
      "              precision    recall  f1-score   support\n",
      "\n",
      "           0       0.87      0.80      0.84      3255\n",
      "           1       0.81      0.88      0.84      3182\n",
      "\n",
      "    accuracy                           0.84      6437\n",
      "   macro avg       0.84      0.84      0.84      6437\n",
      "weighted avg       0.84      0.84      0.84      6437\n",
      "\n"
     ]
    }
   ],
   "source": [
    "#Importing libraries  \n",
    "import sklearn\n",
    "from sklearn.ensemble import AdaBoostClassifier\n",
    "from sklearn.model_selection import train_test_split \n",
    "\n",
    "\n",
    "#Train and Test Split  \n",
    "X_train, X_test, y_train, y_test = train_test_split(X_res,y_res,train_size=0.33, random_state=42)\n",
    "\n",
    "\n",
    "#Linear Regression Model \n",
    "\n",
    "clf = AdaBoostClassifier()\n",
    "clf.fit(X_res,y_res) \n",
    "\n",
    "#Making Predicitons \n",
    "y_pred = clf.predict(X_test)\n",
    "\n",
    "#Metrics \n",
    "from sklearn.metrics import confusion_matrix, classification_report\n",
    "\n",
    "#Confusion matrix \n",
    "confusion_mat  = confusion_matrix(y_test,y_pred)\n",
    "print(confusion_mat)\n",
    "\n",
    "import seaborn as sns\n",
    "import matplotlib.pyplot as plt\n",
    "sns.heatmap(confusion_mat, annot=True, cmap=\"RdGy\", fmt=\".1f\")\n",
    "plt.xlabel(\"Predicted\")\n",
    "plt.ylabel(\"Actual\")\n",
    "plt.show()\n",
    "\n",
    "#Classification Report \n",
    "print(classification_report(y_test,y_pred))"
   ]
  }
 ],
 "metadata": {
  "kernelspec": {
   "display_name": "Python 3 (ipykernel)",
   "language": "python",
   "name": "python3"
  },
  "language_info": {
   "codemirror_mode": {
    "name": "ipython",
    "version": 3
   },
   "file_extension": ".py",
   "mimetype": "text/x-python",
   "name": "python",
   "nbconvert_exporter": "python",
   "pygments_lexer": "ipython3",
   "version": "3.11.7"
  }
 },
 "nbformat": 4,
 "nbformat_minor": 5
}
